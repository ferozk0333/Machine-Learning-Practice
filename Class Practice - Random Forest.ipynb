{
 "cells": [
  {
   "cell_type": "markdown",
   "id": "74834fef",
   "metadata": {},
   "source": [
    "### Random Forest"
   ]
  },
  {
   "cell_type": "code",
   "execution_count": 1,
   "id": "f9f3d3f2",
   "metadata": {},
   "outputs": [],
   "source": [
    "import pandas as pd\n",
    "import numpy as np\n",
    "import matplotlib.pyplot as plt\n",
    "import seaborn as sns\n",
    "%matplotlib inline"
   ]
  },
  {
   "cell_type": "code",
   "execution_count": 2,
   "id": "431b6493",
   "metadata": {},
   "outputs": [
    {
     "data": {
      "text/html": [
       "<div>\n",
       "<style scoped>\n",
       "    .dataframe tbody tr th:only-of-type {\n",
       "        vertical-align: middle;\n",
       "    }\n",
       "\n",
       "    .dataframe tbody tr th {\n",
       "        vertical-align: top;\n",
       "    }\n",
       "\n",
       "    .dataframe thead th {\n",
       "        text-align: right;\n",
       "    }\n",
       "</style>\n",
       "<table border=\"1\" class=\"dataframe\">\n",
       "  <thead>\n",
       "    <tr style=\"text-align: right;\">\n",
       "      <th></th>\n",
       "      <th>BUSAGE</th>\n",
       "      <th>DAYSDELQ</th>\n",
       "      <th>DEFAULT</th>\n",
       "    </tr>\n",
       "  </thead>\n",
       "  <tbody>\n",
       "    <tr>\n",
       "      <th>0</th>\n",
       "      <td>87</td>\n",
       "      <td>2</td>\n",
       "      <td>N</td>\n",
       "    </tr>\n",
       "    <tr>\n",
       "      <th>1</th>\n",
       "      <td>89</td>\n",
       "      <td>2</td>\n",
       "      <td>N</td>\n",
       "    </tr>\n",
       "    <tr>\n",
       "      <th>2</th>\n",
       "      <td>90</td>\n",
       "      <td>2</td>\n",
       "      <td>N</td>\n",
       "    </tr>\n",
       "    <tr>\n",
       "      <th>3</th>\n",
       "      <td>90</td>\n",
       "      <td>2</td>\n",
       "      <td>N</td>\n",
       "    </tr>\n",
       "    <tr>\n",
       "      <th>4</th>\n",
       "      <td>101</td>\n",
       "      <td>2</td>\n",
       "      <td>N</td>\n",
       "    </tr>\n",
       "    <tr>\n",
       "      <th>...</th>\n",
       "      <td>...</td>\n",
       "      <td>...</td>\n",
       "      <td>...</td>\n",
       "    </tr>\n",
       "    <tr>\n",
       "      <th>95</th>\n",
       "      <td>207</td>\n",
       "      <td>70</td>\n",
       "      <td>Y</td>\n",
       "    </tr>\n",
       "    <tr>\n",
       "      <th>96</th>\n",
       "      <td>229</td>\n",
       "      <td>70</td>\n",
       "      <td>Y</td>\n",
       "    </tr>\n",
       "    <tr>\n",
       "      <th>97</th>\n",
       "      <td>65</td>\n",
       "      <td>72</td>\n",
       "      <td>Y</td>\n",
       "    </tr>\n",
       "    <tr>\n",
       "      <th>98</th>\n",
       "      <td>37</td>\n",
       "      <td>76</td>\n",
       "      <td>Y</td>\n",
       "    </tr>\n",
       "    <tr>\n",
       "      <th>99</th>\n",
       "      <td>73</td>\n",
       "      <td>80</td>\n",
       "      <td>Y</td>\n",
       "    </tr>\n",
       "  </tbody>\n",
       "</table>\n",
       "<p>100 rows × 3 columns</p>\n",
       "</div>"
      ],
      "text/plain": [
       "    BUSAGE  DAYSDELQ DEFAULT\n",
       "0       87         2       N\n",
       "1       89         2       N\n",
       "2       90         2       N\n",
       "3       90         2       N\n",
       "4      101         2       N\n",
       "..     ...       ...     ...\n",
       "95     207        70       Y\n",
       "96     229        70       Y\n",
       "97      65        72       Y\n",
       "98      37        76       Y\n",
       "99      73        80       Y\n",
       "\n",
       "[100 rows x 3 columns]"
      ]
     },
     "execution_count": 2,
     "metadata": {},
     "output_type": "execute_result"
    }
   ],
   "source": [
    "df = pd.read_csv(r'C:\\Users\\DELL\\Downloads\\credit_scoring.csv')\n",
    "df"
   ]
  },
  {
   "cell_type": "code",
   "execution_count": 4,
   "id": "4d02680d",
   "metadata": {},
   "outputs": [
    {
     "data": {
      "text/plain": [
       "N    75\n",
       "Y    25\n",
       "Name: DEFAULT, dtype: int64"
      ]
     },
     "execution_count": 4,
     "metadata": {},
     "output_type": "execute_result"
    }
   ],
   "source": [
    "df['DEFAULT'].value_counts()"
   ]
  },
  {
   "cell_type": "code",
   "execution_count": 16,
   "id": "5c15aafd",
   "metadata": {},
   "outputs": [],
   "source": [
    "from sklearn.ensemble import RandomForestClassifier\n",
    "from sklearn.model_selection import train_test_split\n",
    "from sklearn.tree import DecisionTreeClassifier\n",
    "from sklearn import tree\n",
    "from sklearn.metrics import confusion_matrix, classification_report, accuracy_score"
   ]
  },
  {
   "cell_type": "code",
   "execution_count": 18,
   "id": "e5a3a407",
   "metadata": {},
   "outputs": [],
   "source": [
    "X = df.drop(['DEFAULT'], axis = 1)\n",
    "y = df['DEFAULT']"
   ]
  },
  {
   "cell_type": "code",
   "execution_count": 19,
   "id": "2281250a",
   "metadata": {},
   "outputs": [],
   "source": [
    "X_train,X_test,y_train, y_test = train_test_split(X,y, test_size=0.3, random_state=42)"
   ]
  },
  {
   "cell_type": "code",
   "execution_count": 23,
   "id": "16a95d16",
   "metadata": {},
   "outputs": [
    {
     "name": "stdout",
     "output_type": "stream",
     "text": [
      "[[19  4]\n",
      " [ 0  7]]\n",
      "The accuracy : 86.67%\n",
      "              precision    recall  f1-score   support\n",
      "\n",
      "           N       1.00      0.83      0.90        23\n",
      "           Y       0.64      1.00      0.78         7\n",
      "\n",
      "    accuracy                           0.87        30\n",
      "   macro avg       0.82      0.91      0.84        30\n",
      "weighted avg       0.92      0.87      0.88        30\n",
      "\n"
     ]
    }
   ],
   "source": [
    "dtree = DecisionTreeClassifier(criterion='entropy', )\n",
    "dtree.fit(X_train, y_train)\n",
    "y_pred = dtree.predict(X_test)\n",
    "print(confusion_matrix(y_test, y_pred))\n",
    "print(f\"The accuracy : {round(accuracy_score(y_test, y_pred),4)*100}%\")\n",
    "print(classification_report(y_test, y_pred))"
   ]
  },
  {
   "cell_type": "code",
   "execution_count": 24,
   "id": "cbe61a7d",
   "metadata": {},
   "outputs": [],
   "source": [
    "rf = RandomForestClassifier(n_estimators=500)"
   ]
  },
  {
   "cell_type": "code",
   "execution_count": 25,
   "id": "9b680b94",
   "metadata": {},
   "outputs": [
    {
     "data": {
      "text/html": [
       "<style>#sk-container-id-1 {color: black;background-color: white;}#sk-container-id-1 pre{padding: 0;}#sk-container-id-1 div.sk-toggleable {background-color: white;}#sk-container-id-1 label.sk-toggleable__label {cursor: pointer;display: block;width: 100%;margin-bottom: 0;padding: 0.3em;box-sizing: border-box;text-align: center;}#sk-container-id-1 label.sk-toggleable__label-arrow:before {content: \"▸\";float: left;margin-right: 0.25em;color: #696969;}#sk-container-id-1 label.sk-toggleable__label-arrow:hover:before {color: black;}#sk-container-id-1 div.sk-estimator:hover label.sk-toggleable__label-arrow:before {color: black;}#sk-container-id-1 div.sk-toggleable__content {max-height: 0;max-width: 0;overflow: hidden;text-align: left;background-color: #f0f8ff;}#sk-container-id-1 div.sk-toggleable__content pre {margin: 0.2em;color: black;border-radius: 0.25em;background-color: #f0f8ff;}#sk-container-id-1 input.sk-toggleable__control:checked~div.sk-toggleable__content {max-height: 200px;max-width: 100%;overflow: auto;}#sk-container-id-1 input.sk-toggleable__control:checked~label.sk-toggleable__label-arrow:before {content: \"▾\";}#sk-container-id-1 div.sk-estimator input.sk-toggleable__control:checked~label.sk-toggleable__label {background-color: #d4ebff;}#sk-container-id-1 div.sk-label input.sk-toggleable__control:checked~label.sk-toggleable__label {background-color: #d4ebff;}#sk-container-id-1 input.sk-hidden--visually {border: 0;clip: rect(1px 1px 1px 1px);clip: rect(1px, 1px, 1px, 1px);height: 1px;margin: -1px;overflow: hidden;padding: 0;position: absolute;width: 1px;}#sk-container-id-1 div.sk-estimator {font-family: monospace;background-color: #f0f8ff;border: 1px dotted black;border-radius: 0.25em;box-sizing: border-box;margin-bottom: 0.5em;}#sk-container-id-1 div.sk-estimator:hover {background-color: #d4ebff;}#sk-container-id-1 div.sk-parallel-item::after {content: \"\";width: 100%;border-bottom: 1px solid gray;flex-grow: 1;}#sk-container-id-1 div.sk-label:hover label.sk-toggleable__label {background-color: #d4ebff;}#sk-container-id-1 div.sk-serial::before {content: \"\";position: absolute;border-left: 1px solid gray;box-sizing: border-box;top: 0;bottom: 0;left: 50%;z-index: 0;}#sk-container-id-1 div.sk-serial {display: flex;flex-direction: column;align-items: center;background-color: white;padding-right: 0.2em;padding-left: 0.2em;position: relative;}#sk-container-id-1 div.sk-item {position: relative;z-index: 1;}#sk-container-id-1 div.sk-parallel {display: flex;align-items: stretch;justify-content: center;background-color: white;position: relative;}#sk-container-id-1 div.sk-item::before, #sk-container-id-1 div.sk-parallel-item::before {content: \"\";position: absolute;border-left: 1px solid gray;box-sizing: border-box;top: 0;bottom: 0;left: 50%;z-index: -1;}#sk-container-id-1 div.sk-parallel-item {display: flex;flex-direction: column;z-index: 1;position: relative;background-color: white;}#sk-container-id-1 div.sk-parallel-item:first-child::after {align-self: flex-end;width: 50%;}#sk-container-id-1 div.sk-parallel-item:last-child::after {align-self: flex-start;width: 50%;}#sk-container-id-1 div.sk-parallel-item:only-child::after {width: 0;}#sk-container-id-1 div.sk-dashed-wrapped {border: 1px dashed gray;margin: 0 0.4em 0.5em 0.4em;box-sizing: border-box;padding-bottom: 0.4em;background-color: white;}#sk-container-id-1 div.sk-label label {font-family: monospace;font-weight: bold;display: inline-block;line-height: 1.2em;}#sk-container-id-1 div.sk-label-container {text-align: center;}#sk-container-id-1 div.sk-container {/* jupyter's `normalize.less` sets `[hidden] { display: none; }` but bootstrap.min.css set `[hidden] { display: none !important; }` so we also need the `!important` here to be able to override the default hidden behavior on the sphinx rendered scikit-learn.org. See: https://github.com/scikit-learn/scikit-learn/issues/21755 */display: inline-block !important;position: relative;}#sk-container-id-1 div.sk-text-repr-fallback {display: none;}</style><div id=\"sk-container-id-1\" class=\"sk-top-container\"><div class=\"sk-text-repr-fallback\"><pre>RandomForestClassifier(n_estimators=500)</pre><b>In a Jupyter environment, please rerun this cell to show the HTML representation or trust the notebook. <br />On GitHub, the HTML representation is unable to render, please try loading this page with nbviewer.org.</b></div><div class=\"sk-container\" hidden><div class=\"sk-item\"><div class=\"sk-estimator sk-toggleable\"><input class=\"sk-toggleable__control sk-hidden--visually\" id=\"sk-estimator-id-1\" type=\"checkbox\" checked><label for=\"sk-estimator-id-1\" class=\"sk-toggleable__label sk-toggleable__label-arrow\">RandomForestClassifier</label><div class=\"sk-toggleable__content\"><pre>RandomForestClassifier(n_estimators=500)</pre></div></div></div></div></div>"
      ],
      "text/plain": [
       "RandomForestClassifier(n_estimators=500)"
      ]
     },
     "execution_count": 25,
     "metadata": {},
     "output_type": "execute_result"
    }
   ],
   "source": [
    "rf.fit(X_train, y_train)"
   ]
  },
  {
   "cell_type": "code",
   "execution_count": 26,
   "id": "67423652",
   "metadata": {},
   "outputs": [
    {
     "name": "stdout",
     "output_type": "stream",
     "text": [
      "[[19  4]\n",
      " [ 2  5]]\n",
      "The accuracy : 80.0%\n",
      "              precision    recall  f1-score   support\n",
      "\n",
      "           N       0.90      0.83      0.86        23\n",
      "           Y       0.56      0.71      0.63         7\n",
      "\n",
      "    accuracy                           0.80        30\n",
      "   macro avg       0.73      0.77      0.74        30\n",
      "weighted avg       0.82      0.80      0.81        30\n",
      "\n"
     ]
    }
   ],
   "source": [
    "y_pred = rf.predict(X_test)\n",
    "print(confusion_matrix(y_test, y_pred))\n",
    "print(f\"The accuracy : {round(accuracy_score(y_test, y_pred),4)*100}%\")\n",
    "print(classification_report(y_test, y_pred))"
   ]
  },
  {
   "cell_type": "markdown",
   "id": "898c4557",
   "metadata": {},
   "source": [
    "**When RF achieves a lower accuracy than very high DT accuracy, it is a good thing. It tells us that is now less prone to overfitting.**"
   ]
  },
  {
   "cell_type": "markdown",
   "id": "0857a24a",
   "metadata": {},
   "source": [
    "## Assignment\n",
    "\n",
    "In this exercise you will work with the Blues Guitarists Hand Posture and Thumbing Style by Region and Birth Period data, which you can download from here Download here. This dataset has 93 entries of various blues guitarists born between 1874 and 1940. Apart from the name of the guitarists, that dataset contains the following four features:\n",
    "\n",
    "- Regions: 1 means East, 2 means Delta, 3 means Texas.\n",
    "- Years: 0 for those born before 1906, 1 for the rest\n",
    "- Hand postures: 1= Extended, 2= Stacked, 3=Lutiform\n",
    "- Thumb styles: Between 1 and 3, 1=Alternating, 2=Utility, 3=Dead\n",
    "\n",
    "Using decision tree on this dataset, how accurately you can tell their birth year from their hand postures and thumb styles. \n",
    "\n",
    "Given that the birth year is a continuous variable, you could create a discrete variable for classification by doing appropriate segmentations (e.g., 1874-1900: 1, 1901-1920: 2, 1921-1940: 3). How does it affect the evaluation when you include the region while training the model? Now do the same using random forest (on both the above cases) and report the difference.\n",
    "\n",
    "Make sure to use appropriate training-testing parameters for your evaluation. You should also run the algorithms multiple times, measure various accuracies, and report the average (and perhaps the range)."
   ]
  },
  {
   "cell_type": "code",
   "execution_count": 82,
   "id": "b27347cf",
   "metadata": {},
   "outputs": [],
   "source": [
    "data = pd.read_csv(r\"C:\\Users\\DELL\\Downloads\\blues_hand.csv\")"
   ]
  },
  {
   "cell_type": "code",
   "execution_count": 83,
   "id": "7d46ccf8",
   "metadata": {},
   "outputs": [
    {
     "data": {
      "text/html": [
       "<div>\n",
       "<style scoped>\n",
       "    .dataframe tbody tr th:only-of-type {\n",
       "        vertical-align: middle;\n",
       "    }\n",
       "\n",
       "    .dataframe tbody tr th {\n",
       "        vertical-align: top;\n",
       "    }\n",
       "\n",
       "    .dataframe thead th {\n",
       "        text-align: right;\n",
       "    }\n",
       "</style>\n",
       "<table border=\"1\" class=\"dataframe\">\n",
       "  <thead>\n",
       "    <tr style=\"text-align: right;\">\n",
       "      <th></th>\n",
       "      <th>name</th>\n",
       "      <th>state</th>\n",
       "      <th>brthYr</th>\n",
       "      <th>post1906</th>\n",
       "      <th>region</th>\n",
       "      <th>handPost</th>\n",
       "      <th>thumbSty</th>\n",
       "    </tr>\n",
       "  </thead>\n",
       "  <tbody>\n",
       "    <tr>\n",
       "      <th>0</th>\n",
       "      <td>Henry Thomas</td>\n",
       "      <td>TX</td>\n",
       "      <td>1874</td>\n",
       "      <td>0</td>\n",
       "      <td>3</td>\n",
       "      <td>1</td>\n",
       "      <td>3</td>\n",
       "    </tr>\n",
       "    <tr>\n",
       "      <th>1</th>\n",
       "      <td>Frank Stokes</td>\n",
       "      <td>TN</td>\n",
       "      <td>1887</td>\n",
       "      <td>0</td>\n",
       "      <td>2</td>\n",
       "      <td>1</td>\n",
       "      <td>3</td>\n",
       "    </tr>\n",
       "    <tr>\n",
       "      <th>2</th>\n",
       "      <td>Sam Collins</td>\n",
       "      <td>MS</td>\n",
       "      <td>1887</td>\n",
       "      <td>0</td>\n",
       "      <td>2</td>\n",
       "      <td>1</td>\n",
       "      <td>2</td>\n",
       "    </tr>\n",
       "    <tr>\n",
       "      <th>3</th>\n",
       "      <td>Peg Leg Howell</td>\n",
       "      <td>GA</td>\n",
       "      <td>1888</td>\n",
       "      <td>0</td>\n",
       "      <td>1</td>\n",
       "      <td>2</td>\n",
       "      <td>2</td>\n",
       "    </tr>\n",
       "    <tr>\n",
       "      <th>4</th>\n",
       "      <td>Huddie Ledbetter</td>\n",
       "      <td>TX</td>\n",
       "      <td>1888</td>\n",
       "      <td>0</td>\n",
       "      <td>3</td>\n",
       "      <td>2</td>\n",
       "      <td>3</td>\n",
       "    </tr>\n",
       "    <tr>\n",
       "      <th>...</th>\n",
       "      <td>...</td>\n",
       "      <td>...</td>\n",
       "      <td>...</td>\n",
       "      <td>...</td>\n",
       "      <td>...</td>\n",
       "      <td>...</td>\n",
       "      <td>...</td>\n",
       "    </tr>\n",
       "    <tr>\n",
       "      <th>88</th>\n",
       "      <td>Jimmie Lee Harris</td>\n",
       "      <td>AL</td>\n",
       "      <td>1935</td>\n",
       "      <td>1</td>\n",
       "      <td>2</td>\n",
       "      <td>2</td>\n",
       "      <td>3</td>\n",
       "    </tr>\n",
       "    <tr>\n",
       "      <th>89</th>\n",
       "      <td>Snooks Eaglin</td>\n",
       "      <td>LA</td>\n",
       "      <td>1936</td>\n",
       "      <td>1</td>\n",
       "      <td>2</td>\n",
       "      <td>1</td>\n",
       "      <td>2</td>\n",
       "    </tr>\n",
       "    <tr>\n",
       "      <th>90</th>\n",
       "      <td>Larry Johnson</td>\n",
       "      <td>GA</td>\n",
       "      <td>1938</td>\n",
       "      <td>1</td>\n",
       "      <td>1</td>\n",
       "      <td>1</td>\n",
       "      <td>1</td>\n",
       "    </tr>\n",
       "    <tr>\n",
       "      <th>91</th>\n",
       "      <td>Tom Winslow</td>\n",
       "      <td>NC</td>\n",
       "      <td>1938</td>\n",
       "      <td>1</td>\n",
       "      <td>1</td>\n",
       "      <td>1</td>\n",
       "      <td>1</td>\n",
       "    </tr>\n",
       "    <tr>\n",
       "      <th>92</th>\n",
       "      <td>Rober Belfour</td>\n",
       "      <td>MS</td>\n",
       "      <td>1940</td>\n",
       "      <td>1</td>\n",
       "      <td>2</td>\n",
       "      <td>2</td>\n",
       "      <td>2</td>\n",
       "    </tr>\n",
       "  </tbody>\n",
       "</table>\n",
       "<p>93 rows × 7 columns</p>\n",
       "</div>"
      ],
      "text/plain": [
       "                 name state  brthYr  post1906  region  handPost  thumbSty\n",
       "0        Henry Thomas    TX    1874         0       3         1         3\n",
       "1        Frank Stokes    TN    1887         0       2         1         3\n",
       "2         Sam Collins    MS    1887         0       2         1         2\n",
       "3      Peg Leg Howell    GA    1888         0       1         2         2\n",
       "4    Huddie Ledbetter    TX    1888         0       3         2         3\n",
       "..                ...   ...     ...       ...     ...       ...       ...\n",
       "88  Jimmie Lee Harris    AL    1935         1       2         2         3\n",
       "89      Snooks Eaglin    LA    1936         1       2         1         2\n",
       "90      Larry Johnson    GA    1938         1       1         1         1\n",
       "91        Tom Winslow    NC    1938         1       1         1         1\n",
       "92      Rober Belfour    MS    1940         1       2         2         2\n",
       "\n",
       "[93 rows x 7 columns]"
      ]
     },
     "execution_count": 83,
     "metadata": {},
     "output_type": "execute_result"
    }
   ],
   "source": [
    "data"
   ]
  },
  {
   "cell_type": "code",
   "execution_count": 84,
   "id": "b846cc60",
   "metadata": {},
   "outputs": [],
   "source": [
    "data['birth_seg'] = 0\n",
    "\n",
    "data.loc[(data['brthYr'] >=1874) & (data['brthYr'] <=1900), 'birth_seg'] = 1\n",
    "data.loc[(data['brthYr'] >1900) & (data['brthYr'] <=1920), 'birth_seg'] = 2\n",
    "data.loc[(data['brthYr'] >1920) & (data['brthYr']<=1940), 'birth_seg'] = 3\n"
   ]
  },
  {
   "cell_type": "code",
   "execution_count": 86,
   "id": "87683be5",
   "metadata": {},
   "outputs": [
    {
     "data": {
      "text/html": [
       "<div>\n",
       "<style scoped>\n",
       "    .dataframe tbody tr th:only-of-type {\n",
       "        vertical-align: middle;\n",
       "    }\n",
       "\n",
       "    .dataframe tbody tr th {\n",
       "        vertical-align: top;\n",
       "    }\n",
       "\n",
       "    .dataframe thead th {\n",
       "        text-align: right;\n",
       "    }\n",
       "</style>\n",
       "<table border=\"1\" class=\"dataframe\">\n",
       "  <thead>\n",
       "    <tr style=\"text-align: right;\">\n",
       "      <th></th>\n",
       "      <th>name</th>\n",
       "      <th>state</th>\n",
       "      <th>brthYr</th>\n",
       "      <th>post1906</th>\n",
       "      <th>region</th>\n",
       "      <th>handPost</th>\n",
       "      <th>thumbSty</th>\n",
       "      <th>birth_seg</th>\n",
       "    </tr>\n",
       "  </thead>\n",
       "  <tbody>\n",
       "    <tr>\n",
       "      <th>0</th>\n",
       "      <td>Henry Thomas</td>\n",
       "      <td>TX</td>\n",
       "      <td>1874</td>\n",
       "      <td>0</td>\n",
       "      <td>3</td>\n",
       "      <td>1</td>\n",
       "      <td>3</td>\n",
       "      <td>1</td>\n",
       "    </tr>\n",
       "    <tr>\n",
       "      <th>1</th>\n",
       "      <td>Frank Stokes</td>\n",
       "      <td>TN</td>\n",
       "      <td>1887</td>\n",
       "      <td>0</td>\n",
       "      <td>2</td>\n",
       "      <td>1</td>\n",
       "      <td>3</td>\n",
       "      <td>1</td>\n",
       "    </tr>\n",
       "    <tr>\n",
       "      <th>2</th>\n",
       "      <td>Sam Collins</td>\n",
       "      <td>MS</td>\n",
       "      <td>1887</td>\n",
       "      <td>0</td>\n",
       "      <td>2</td>\n",
       "      <td>1</td>\n",
       "      <td>2</td>\n",
       "      <td>1</td>\n",
       "    </tr>\n",
       "    <tr>\n",
       "      <th>3</th>\n",
       "      <td>Peg Leg Howell</td>\n",
       "      <td>GA</td>\n",
       "      <td>1888</td>\n",
       "      <td>0</td>\n",
       "      <td>1</td>\n",
       "      <td>2</td>\n",
       "      <td>2</td>\n",
       "      <td>1</td>\n",
       "    </tr>\n",
       "    <tr>\n",
       "      <th>4</th>\n",
       "      <td>Huddie Ledbetter</td>\n",
       "      <td>TX</td>\n",
       "      <td>1888</td>\n",
       "      <td>0</td>\n",
       "      <td>3</td>\n",
       "      <td>2</td>\n",
       "      <td>3</td>\n",
       "      <td>1</td>\n",
       "    </tr>\n",
       "    <tr>\n",
       "      <th>...</th>\n",
       "      <td>...</td>\n",
       "      <td>...</td>\n",
       "      <td>...</td>\n",
       "      <td>...</td>\n",
       "      <td>...</td>\n",
       "      <td>...</td>\n",
       "      <td>...</td>\n",
       "      <td>...</td>\n",
       "    </tr>\n",
       "    <tr>\n",
       "      <th>88</th>\n",
       "      <td>Jimmie Lee Harris</td>\n",
       "      <td>AL</td>\n",
       "      <td>1935</td>\n",
       "      <td>1</td>\n",
       "      <td>2</td>\n",
       "      <td>2</td>\n",
       "      <td>3</td>\n",
       "      <td>3</td>\n",
       "    </tr>\n",
       "    <tr>\n",
       "      <th>89</th>\n",
       "      <td>Snooks Eaglin</td>\n",
       "      <td>LA</td>\n",
       "      <td>1936</td>\n",
       "      <td>1</td>\n",
       "      <td>2</td>\n",
       "      <td>1</td>\n",
       "      <td>2</td>\n",
       "      <td>3</td>\n",
       "    </tr>\n",
       "    <tr>\n",
       "      <th>90</th>\n",
       "      <td>Larry Johnson</td>\n",
       "      <td>GA</td>\n",
       "      <td>1938</td>\n",
       "      <td>1</td>\n",
       "      <td>1</td>\n",
       "      <td>1</td>\n",
       "      <td>1</td>\n",
       "      <td>3</td>\n",
       "    </tr>\n",
       "    <tr>\n",
       "      <th>91</th>\n",
       "      <td>Tom Winslow</td>\n",
       "      <td>NC</td>\n",
       "      <td>1938</td>\n",
       "      <td>1</td>\n",
       "      <td>1</td>\n",
       "      <td>1</td>\n",
       "      <td>1</td>\n",
       "      <td>3</td>\n",
       "    </tr>\n",
       "    <tr>\n",
       "      <th>92</th>\n",
       "      <td>Rober Belfour</td>\n",
       "      <td>MS</td>\n",
       "      <td>1940</td>\n",
       "      <td>1</td>\n",
       "      <td>2</td>\n",
       "      <td>2</td>\n",
       "      <td>2</td>\n",
       "      <td>3</td>\n",
       "    </tr>\n",
       "  </tbody>\n",
       "</table>\n",
       "<p>93 rows × 8 columns</p>\n",
       "</div>"
      ],
      "text/plain": [
       "                 name state  brthYr  post1906  region  handPost  thumbSty  \\\n",
       "0        Henry Thomas    TX    1874         0       3         1         3   \n",
       "1        Frank Stokes    TN    1887         0       2         1         3   \n",
       "2         Sam Collins    MS    1887         0       2         1         2   \n",
       "3      Peg Leg Howell    GA    1888         0       1         2         2   \n",
       "4    Huddie Ledbetter    TX    1888         0       3         2         3   \n",
       "..                ...   ...     ...       ...     ...       ...       ...   \n",
       "88  Jimmie Lee Harris    AL    1935         1       2         2         3   \n",
       "89      Snooks Eaglin    LA    1936         1       2         1         2   \n",
       "90      Larry Johnson    GA    1938         1       1         1         1   \n",
       "91        Tom Winslow    NC    1938         1       1         1         1   \n",
       "92      Rober Belfour    MS    1940         1       2         2         2   \n",
       "\n",
       "    birth_seg  \n",
       "0           1  \n",
       "1           1  \n",
       "2           1  \n",
       "3           1  \n",
       "4           1  \n",
       "..        ...  \n",
       "88          3  \n",
       "89          3  \n",
       "90          3  \n",
       "91          3  \n",
       "92          3  \n",
       "\n",
       "[93 rows x 8 columns]"
      ]
     },
     "execution_count": 86,
     "metadata": {},
     "output_type": "execute_result"
    }
   ],
   "source": [
    "data"
   ]
  },
  {
   "cell_type": "code",
   "execution_count": 87,
   "id": "067b2ab6",
   "metadata": {},
   "outputs": [
    {
     "data": {
      "text/plain": [
       "Index(['name', 'state', 'brthYr', 'post1906', 'region', 'handPost', 'thumbSty',\n",
       "       'birth_seg'],\n",
       "      dtype='object')"
      ]
     },
     "execution_count": 87,
     "metadata": {},
     "output_type": "execute_result"
    }
   ],
   "source": [
    "data.columns"
   ]
  },
  {
   "cell_type": "code",
   "execution_count": 100,
   "id": "0c0887e5",
   "metadata": {},
   "outputs": [],
   "source": [
    "X = data.drop(['brthYr', 'birth_seg'], axis = 1)\n",
    "y = data['birth_seg']\n",
    "X_train, X_test, y_train, y_test = train_test_split(X[['post1906', 'thumbSty']],y, test_size=0.3, random_state=32)"
   ]
  },
  {
   "cell_type": "code",
   "execution_count": 101,
   "id": "24885ee9",
   "metadata": {},
   "outputs": [],
   "source": [
    "from sklearn.tree import DecisionTreeClassifier\n",
    "from sklearn.metrics import accuracy_score, classification_report, confusion_matrix\n",
    "from sklearn import tree"
   ]
  },
  {
   "cell_type": "code",
   "execution_count": 102,
   "id": "faafac4b",
   "metadata": {},
   "outputs": [
    {
     "name": "stdout",
     "output_type": "stream",
     "text": [
      "[[10  0  0]\n",
      " [ 7  7  0]\n",
      " [ 0  4  0]]\n",
      "The accuracy : 60.709999999999994%\n",
      "              precision    recall  f1-score   support\n",
      "\n",
      "           1       0.59      1.00      0.74        10\n",
      "           2       0.64      0.50      0.56        14\n",
      "           3       0.00      0.00      0.00         4\n",
      "\n",
      "    accuracy                           0.61        28\n",
      "   macro avg       0.41      0.50      0.43        28\n",
      "weighted avg       0.53      0.61      0.54        28\n",
      "\n"
     ]
    },
    {
     "name": "stderr",
     "output_type": "stream",
     "text": [
      "C:\\Python Folder\\Anaconda\\Lib\\site-packages\\sklearn\\metrics\\_classification.py:1344: UndefinedMetricWarning: Precision and F-score are ill-defined and being set to 0.0 in labels with no predicted samples. Use `zero_division` parameter to control this behavior.\n",
      "  _warn_prf(average, modifier, msg_start, len(result))\n",
      "C:\\Python Folder\\Anaconda\\Lib\\site-packages\\sklearn\\metrics\\_classification.py:1344: UndefinedMetricWarning: Precision and F-score are ill-defined and being set to 0.0 in labels with no predicted samples. Use `zero_division` parameter to control this behavior.\n",
      "  _warn_prf(average, modifier, msg_start, len(result))\n",
      "C:\\Python Folder\\Anaconda\\Lib\\site-packages\\sklearn\\metrics\\_classification.py:1344: UndefinedMetricWarning: Precision and F-score are ill-defined and being set to 0.0 in labels with no predicted samples. Use `zero_division` parameter to control this behavior.\n",
      "  _warn_prf(average, modifier, msg_start, len(result))\n"
     ]
    }
   ],
   "source": [
    "dtree = DecisionTreeClassifier(criterion = 'entropy')\n",
    "dtree.fit(X_train, y_train)\n",
    "y_pred = dtree.predict(X_test)\n",
    "print(confusion_matrix(y_test, y_pred))\n",
    "print(f\"The accuracy : {round(accuracy_score(y_test, y_pred),4)*100}%\")\n",
    "print(classification_report(y_test, y_pred))"
   ]
  },
  {
   "cell_type": "code",
   "execution_count": 93,
   "id": "935539b9",
   "metadata": {},
   "outputs": [
    {
     "data": {
      "text/plain": [
       "2    51\n",
       "1    25\n",
       "3    17\n",
       "Name: birth_seg, dtype: int64"
      ]
     },
     "execution_count": 93,
     "metadata": {},
     "output_type": "execute_result"
    }
   ],
   "source": [
    "data['birth_seg'].value_counts()"
   ]
  },
  {
   "cell_type": "code",
   "execution_count": 95,
   "id": "b3677fa8",
   "metadata": {},
   "outputs": [
    {
     "data": {
      "text/plain": [
       "array([3, 2, 3, 2, 2, 2, 1, 1, 2, 2, 1, 1, 2, 1, 2, 3, 2, 2, 1, 1, 3, 1,\n",
       "       2, 1, 1, 2, 2, 2], dtype=int64)"
      ]
     },
     "execution_count": 95,
     "metadata": {},
     "output_type": "execute_result"
    }
   ],
   "source": [
    "y_test.values"
   ]
  },
  {
   "cell_type": "code",
   "execution_count": 96,
   "id": "bbe01567",
   "metadata": {},
   "outputs": [
    {
     "data": {
      "text/plain": [
       "array([2, 1, 2, 1, 2, 1, 1, 1, 2, 2, 1, 1, 2, 1, 1, 2, 1, 2, 1, 1, 2, 1,\n",
       "       2, 1, 1, 1, 2, 1], dtype=int64)"
      ]
     },
     "execution_count": 96,
     "metadata": {},
     "output_type": "execute_result"
    }
   ],
   "source": [
    "y_pred"
   ]
  },
  {
   "cell_type": "code",
   "execution_count": 103,
   "id": "3d402fc0",
   "metadata": {},
   "outputs": [],
   "source": [
    "# Let's include Region as well\n",
    "\n",
    "X_train, X_test, y_train, y_test = train_test_split(X[['post1906', 'thumbSty', 'region']],y, test_size=0.3, random_state=32)"
   ]
  },
  {
   "cell_type": "code",
   "execution_count": 120,
   "id": "37b4213d",
   "metadata": {},
   "outputs": [
    {
     "name": "stdout",
     "output_type": "stream",
     "text": [
      "[[ 8  2  0]\n",
      " [ 2 12  0]\n",
      " [ 0  4  0]]\n",
      "The accuracy : 71.43%\n",
      "              precision    recall  f1-score   support\n",
      "\n",
      "           1       0.80      0.80      0.80        10\n",
      "           2       0.67      0.86      0.75        14\n",
      "           3       0.00      0.00      0.00         4\n",
      "\n",
      "    accuracy                           0.71        28\n",
      "   macro avg       0.49      0.55      0.52        28\n",
      "weighted avg       0.62      0.71      0.66        28\n",
      "\n"
     ]
    },
    {
     "name": "stderr",
     "output_type": "stream",
     "text": [
      "C:\\Python Folder\\Anaconda\\Lib\\site-packages\\sklearn\\metrics\\_classification.py:1344: UndefinedMetricWarning: Precision and F-score are ill-defined and being set to 0.0 in labels with no predicted samples. Use `zero_division` parameter to control this behavior.\n",
      "  _warn_prf(average, modifier, msg_start, len(result))\n",
      "C:\\Python Folder\\Anaconda\\Lib\\site-packages\\sklearn\\metrics\\_classification.py:1344: UndefinedMetricWarning: Precision and F-score are ill-defined and being set to 0.0 in labels with no predicted samples. Use `zero_division` parameter to control this behavior.\n",
      "  _warn_prf(average, modifier, msg_start, len(result))\n",
      "C:\\Python Folder\\Anaconda\\Lib\\site-packages\\sklearn\\metrics\\_classification.py:1344: UndefinedMetricWarning: Precision and F-score are ill-defined and being set to 0.0 in labels with no predicted samples. Use `zero_division` parameter to control this behavior.\n",
      "  _warn_prf(average, modifier, msg_start, len(result))\n"
     ]
    }
   ],
   "source": [
    "dtree = DecisionTreeClassifier(criterion = 'entropy')\n",
    "dtree.fit(X_train, y_train)\n",
    "y_pred = dtree.predict(X_test)\n",
    "print(confusion_matrix(y_test, y_pred))\n",
    "print(f\"The accuracy : {round(accuracy_score(y_test, y_pred),4)*100}%\")\n",
    "print(classification_report(y_test, y_pred))"
   ]
  },
  {
   "cell_type": "markdown",
   "id": "ab93f891",
   "metadata": {},
   "source": [
    "Observation: Accuracy has improved upon inclusion of region"
   ]
  },
  {
   "cell_type": "markdown",
   "id": "3162cff7",
   "metadata": {},
   "source": [
    "## Random Forest\n",
    "\n",
    "First with REGION included"
   ]
  },
  {
   "cell_type": "code",
   "execution_count": 137,
   "id": "6cd7cfe4",
   "metadata": {},
   "outputs": [],
   "source": [
    "from sklearn.ensemble import RandomForestClassifier\n",
    "\n",
    "rf = RandomForestClassifier(n_estimators=500)"
   ]
  },
  {
   "cell_type": "code",
   "execution_count": 146,
   "id": "e4d39755",
   "metadata": {},
   "outputs": [
    {
     "name": "stdout",
     "output_type": "stream",
     "text": [
      "[[ 8  2  0]\n",
      " [ 2 12  0]\n",
      " [ 0  4  0]]\n",
      "              precision    recall  f1-score   support\n",
      "\n",
      "           1       0.80      0.80      0.80        10\n",
      "           2       0.67      0.86      0.75        14\n",
      "           3       0.00      0.00      0.00         4\n",
      "\n",
      "    accuracy                           0.71        28\n",
      "   macro avg       0.49      0.55      0.52        28\n",
      "weighted avg       0.62      0.71      0.66        28\n",
      "\n",
      "The accuracy : 71.43%\n"
     ]
    },
    {
     "name": "stderr",
     "output_type": "stream",
     "text": [
      "C:\\Python Folder\\Anaconda\\Lib\\site-packages\\sklearn\\metrics\\_classification.py:1344: UndefinedMetricWarning: Precision and F-score are ill-defined and being set to 0.0 in labels with no predicted samples. Use `zero_division` parameter to control this behavior.\n",
      "  _warn_prf(average, modifier, msg_start, len(result))\n",
      "C:\\Python Folder\\Anaconda\\Lib\\site-packages\\sklearn\\metrics\\_classification.py:1344: UndefinedMetricWarning: Precision and F-score are ill-defined and being set to 0.0 in labels with no predicted samples. Use `zero_division` parameter to control this behavior.\n",
      "  _warn_prf(average, modifier, msg_start, len(result))\n",
      "C:\\Python Folder\\Anaconda\\Lib\\site-packages\\sklearn\\metrics\\_classification.py:1344: UndefinedMetricWarning: Precision and F-score are ill-defined and being set to 0.0 in labels with no predicted samples. Use `zero_division` parameter to control this behavior.\n",
      "  _warn_prf(average, modifier, msg_start, len(result))\n"
     ]
    }
   ],
   "source": [
    "rf.fit(X_train, y_train)\n",
    "y_pred = rf.predict(X_test)\n",
    "print(confusion_matrix(y_test, y_pred))\n",
    "print(classification_report(y_test, y_pred))\n",
    "print(f\"The accuracy : {round(accuracy_score(y_test, y_pred),4)*100}%\")"
   ]
  },
  {
   "cell_type": "markdown",
   "id": "1d9856b3",
   "metadata": {},
   "source": [
    "**Observation: This is improvement in terms of removing overfitting. Precision and Recall are now more balanced and realistic** "
   ]
  },
  {
   "cell_type": "code",
   "execution_count": null,
   "id": "1a59bbf2",
   "metadata": {},
   "outputs": [],
   "source": [
    "# Without region"
   ]
  },
  {
   "cell_type": "code",
   "execution_count": 119,
   "id": "09d4db3e",
   "metadata": {},
   "outputs": [
    {
     "name": "stdout",
     "output_type": "stream",
     "text": [
      "[[10  0  0]\n",
      " [ 7  7  0]\n",
      " [ 0  4  0]]\n",
      "              precision    recall  f1-score   support\n",
      "\n",
      "           1       0.59      1.00      0.74        10\n",
      "           2       0.64      0.50      0.56        14\n",
      "           3       0.00      0.00      0.00         4\n",
      "\n",
      "    accuracy                           0.61        28\n",
      "   macro avg       0.41      0.50      0.43        28\n",
      "weighted avg       0.53      0.61      0.54        28\n",
      "\n",
      "The accuracy : 60.709999999999994%\n"
     ]
    },
    {
     "name": "stderr",
     "output_type": "stream",
     "text": [
      "C:\\Python Folder\\Anaconda\\Lib\\site-packages\\sklearn\\metrics\\_classification.py:1344: UndefinedMetricWarning: Precision and F-score are ill-defined and being set to 0.0 in labels with no predicted samples. Use `zero_division` parameter to control this behavior.\n",
      "  _warn_prf(average, modifier, msg_start, len(result))\n",
      "C:\\Python Folder\\Anaconda\\Lib\\site-packages\\sklearn\\metrics\\_classification.py:1344: UndefinedMetricWarning: Precision and F-score are ill-defined and being set to 0.0 in labels with no predicted samples. Use `zero_division` parameter to control this behavior.\n",
      "  _warn_prf(average, modifier, msg_start, len(result))\n",
      "C:\\Python Folder\\Anaconda\\Lib\\site-packages\\sklearn\\metrics\\_classification.py:1344: UndefinedMetricWarning: Precision and F-score are ill-defined and being set to 0.0 in labels with no predicted samples. Use `zero_division` parameter to control this behavior.\n",
      "  _warn_prf(average, modifier, msg_start, len(result))\n"
     ]
    }
   ],
   "source": [
    "rf.fit(X_train.drop(['region'], axis = 1), y_train)\n",
    "y_pred = rf.predict(X_test.drop(['region'], axis = 1))\n",
    "print(confusion_matrix(y_test, y_pred))\n",
    "print(classification_report(y_test, y_pred))\n",
    "print(f\"The accuracy : {round(accuracy_score(y_test, y_pred),4)*100}%\")"
   ]
  },
  {
   "cell_type": "markdown",
   "id": "22248f98",
   "metadata": {},
   "source": [
    "**Observation: No difference** "
   ]
  },
  {
   "cell_type": "code",
   "execution_count": 158,
   "id": "d99afcb4",
   "metadata": {},
   "outputs": [],
   "source": [
    "accuracy = []\n",
    "\n",
    "for i in range(100):\n",
    "    rf.fit(X_train, y_train)\n",
    "    y_pred = rf.predict(X_test)\n",
    "    accuracy.append(accuracy_score(y_test, y_pred))"
   ]
  },
  {
   "cell_type": "code",
   "execution_count": 153,
   "id": "29bc3426",
   "metadata": {},
   "outputs": [
    {
     "data": {
      "text/plain": [
       "59.28571428571425"
      ]
     },
     "execution_count": 153,
     "metadata": {},
     "output_type": "execute_result"
    }
   ],
   "source": [
    "np.mean(accuracy)*100"
   ]
  },
  {
   "cell_type": "code",
   "execution_count": 155,
   "id": "aa2b8e53",
   "metadata": {},
   "outputs": [
    {
     "data": {
      "text/plain": [
       "57.14285714285714"
      ]
     },
     "execution_count": 155,
     "metadata": {},
     "output_type": "execute_result"
    }
   ],
   "source": [
    "np.min(accuracy)*100"
   ]
  },
  {
   "cell_type": "code",
   "execution_count": 156,
   "id": "94418a5c",
   "metadata": {},
   "outputs": [
    {
     "data": {
      "text/plain": [
       "60.71428571428571"
      ]
     },
     "execution_count": 156,
     "metadata": {},
     "output_type": "execute_result"
    }
   ],
   "source": [
    "np.max(accuracy)*100"
   ]
  },
  {
   "cell_type": "code",
   "execution_count": 159,
   "id": "50716acd",
   "metadata": {},
   "outputs": [
    {
     "name": "stdout",
     "output_type": "stream",
     "text": [
      "Min accuracy: 60.71428571428571 | Mean accuracy: 66.60714285714285 | Max accuracy: 71.42857142857143\n"
     ]
    }
   ],
   "source": [
    "print(f\"Min accuracy: {np.min(accuracy)*100} | Mean accuracy: {np.mean(accuracy)*100} | Max accuracy: {np.max(accuracy)*100}\")"
   ]
  },
  {
   "cell_type": "code",
   "execution_count": null,
   "id": "57ecd46b",
   "metadata": {},
   "outputs": [],
   "source": []
  }
 ],
 "metadata": {
  "kernelspec": {
   "display_name": "Python 3 (ipykernel)",
   "language": "python",
   "name": "python3"
  },
  "language_info": {
   "codemirror_mode": {
    "name": "ipython",
    "version": 3
   },
   "file_extension": ".py",
   "mimetype": "text/x-python",
   "name": "python",
   "nbconvert_exporter": "python",
   "pygments_lexer": "ipython3",
   "version": "3.11.3"
  }
 },
 "nbformat": 4,
 "nbformat_minor": 5
}
