{
 "cells": [
  {
   "cell_type": "code",
   "execution_count": 1,
   "id": "47fc0b72",
   "metadata": {},
   "outputs": [],
   "source": [
    "import pandas as pd\n",
    "import numpy as np\n",
    "import matplotlib.pyplot as plt\n",
    "import seaborn as sns\n",
    "%matplotlib inline"
   ]
  },
  {
   "cell_type": "code",
   "execution_count": 2,
   "id": "f0034123",
   "metadata": {},
   "outputs": [
    {
     "data": {
      "text/html": [
       "<div>\n",
       "<style scoped>\n",
       "    .dataframe tbody tr th:only-of-type {\n",
       "        vertical-align: middle;\n",
       "    }\n",
       "\n",
       "    .dataframe tbody tr th {\n",
       "        vertical-align: top;\n",
       "    }\n",
       "\n",
       "    .dataframe thead th {\n",
       "        text-align: right;\n",
       "    }\n",
       "</style>\n",
       "<table border=\"1\" class=\"dataframe\">\n",
       "  <thead>\n",
       "    <tr style=\"text-align: right;\">\n",
       "      <th></th>\n",
       "      <th>area</th>\n",
       "      <th>bedrooms</th>\n",
       "      <th>price</th>\n",
       "    </tr>\n",
       "  </thead>\n",
       "  <tbody>\n",
       "    <tr>\n",
       "      <th>0</th>\n",
       "      <td>1056</td>\n",
       "      <td>2</td>\n",
       "      <td>39.07</td>\n",
       "    </tr>\n",
       "    <tr>\n",
       "      <th>1</th>\n",
       "      <td>2600</td>\n",
       "      <td>4</td>\n",
       "      <td>120.00</td>\n",
       "    </tr>\n",
       "    <tr>\n",
       "      <th>2</th>\n",
       "      <td>1440</td>\n",
       "      <td>3</td>\n",
       "      <td>62.00</td>\n",
       "    </tr>\n",
       "    <tr>\n",
       "      <th>3</th>\n",
       "      <td>1521</td>\n",
       "      <td>3</td>\n",
       "      <td>75.00</td>\n",
       "    </tr>\n",
       "    <tr>\n",
       "      <th>4</th>\n",
       "      <td>1200</td>\n",
       "      <td>2</td>\n",
       "      <td>51.00</td>\n",
       "    </tr>\n",
       "    <tr>\n",
       "      <th>5</th>\n",
       "      <td>1170</td>\n",
       "      <td>2</td>\n",
       "      <td>38.00</td>\n",
       "    </tr>\n",
       "    <tr>\n",
       "      <th>6</th>\n",
       "      <td>2732</td>\n",
       "      <td>4</td>\n",
       "      <td>135.00</td>\n",
       "    </tr>\n",
       "    <tr>\n",
       "      <th>7</th>\n",
       "      <td>3300</td>\n",
       "      <td>4</td>\n",
       "      <td>155.00</td>\n",
       "    </tr>\n",
       "    <tr>\n",
       "      <th>8</th>\n",
       "      <td>1310</td>\n",
       "      <td>3</td>\n",
       "      <td>50.00</td>\n",
       "    </tr>\n",
       "    <tr>\n",
       "      <th>9</th>\n",
       "      <td>3700</td>\n",
       "      <td>5</td>\n",
       "      <td>167.00</td>\n",
       "    </tr>\n",
       "    <tr>\n",
       "      <th>10</th>\n",
       "      <td>1800</td>\n",
       "      <td>3</td>\n",
       "      <td>82.00</td>\n",
       "    </tr>\n",
       "    <tr>\n",
       "      <th>11</th>\n",
       "      <td>2785</td>\n",
       "      <td>4</td>\n",
       "      <td>140.00</td>\n",
       "    </tr>\n",
       "    <tr>\n",
       "      <th>12</th>\n",
       "      <td>1000</td>\n",
       "      <td>2</td>\n",
       "      <td>38.00</td>\n",
       "    </tr>\n",
       "    <tr>\n",
       "      <th>13</th>\n",
       "      <td>1100</td>\n",
       "      <td>2</td>\n",
       "      <td>40.00</td>\n",
       "    </tr>\n",
       "    <tr>\n",
       "      <th>14</th>\n",
       "      <td>2250</td>\n",
       "      <td>3</td>\n",
       "      <td>101.00</td>\n",
       "    </tr>\n",
       "    <tr>\n",
       "      <th>15</th>\n",
       "      <td>1175</td>\n",
       "      <td>2</td>\n",
       "      <td>42.00</td>\n",
       "    </tr>\n",
       "    <tr>\n",
       "      <th>16</th>\n",
       "      <td>1180</td>\n",
       "      <td>3</td>\n",
       "      <td>48.00</td>\n",
       "    </tr>\n",
       "    <tr>\n",
       "      <th>17</th>\n",
       "      <td>1540</td>\n",
       "      <td>3</td>\n",
       "      <td>60.00</td>\n",
       "    </tr>\n",
       "    <tr>\n",
       "      <th>18</th>\n",
       "      <td>2770</td>\n",
       "      <td>3</td>\n",
       "      <td>102.00</td>\n",
       "    </tr>\n",
       "    <tr>\n",
       "      <th>19</th>\n",
       "      <td>800</td>\n",
       "      <td>1</td>\n",
       "      <td>32.00</td>\n",
       "    </tr>\n",
       "  </tbody>\n",
       "</table>\n",
       "</div>"
      ],
      "text/plain": [
       "    area  bedrooms   price\n",
       "0   1056         2   39.07\n",
       "1   2600         4  120.00\n",
       "2   1440         3   62.00\n",
       "3   1521         3   75.00\n",
       "4   1200         2   51.00\n",
       "5   1170         2   38.00\n",
       "6   2732         4  135.00\n",
       "7   3300         4  155.00\n",
       "8   1310         3   50.00\n",
       "9   3700         5  167.00\n",
       "10  1800         3   82.00\n",
       "11  2785         4  140.00\n",
       "12  1000         2   38.00\n",
       "13  1100         2   40.00\n",
       "14  2250         3  101.00\n",
       "15  1175         2   42.00\n",
       "16  1180         3   48.00\n",
       "17  1540         3   60.00\n",
       "18  2770         3  102.00\n",
       "19   800         1   32.00"
      ]
     },
     "execution_count": 2,
     "metadata": {},
     "output_type": "execute_result"
    }
   ],
   "source": [
    "df = pd.read_csv('homeprices_banglore.csv')\n",
    "df"
   ]
  },
  {
   "cell_type": "code",
   "execution_count": 3,
   "id": "a108d3fd",
   "metadata": {},
   "outputs": [],
   "source": [
    "X = df.drop('price', axis = 1)"
   ]
  },
  {
   "cell_type": "code",
   "execution_count": 4,
   "id": "41e58cba",
   "metadata": {},
   "outputs": [
    {
     "data": {
      "text/html": [
       "<div>\n",
       "<style scoped>\n",
       "    .dataframe tbody tr th:only-of-type {\n",
       "        vertical-align: middle;\n",
       "    }\n",
       "\n",
       "    .dataframe tbody tr th {\n",
       "        vertical-align: top;\n",
       "    }\n",
       "\n",
       "    .dataframe thead th {\n",
       "        text-align: right;\n",
       "    }\n",
       "</style>\n",
       "<table border=\"1\" class=\"dataframe\">\n",
       "  <thead>\n",
       "    <tr style=\"text-align: right;\">\n",
       "      <th></th>\n",
       "      <th>area</th>\n",
       "      <th>bedrooms</th>\n",
       "    </tr>\n",
       "  </thead>\n",
       "  <tbody>\n",
       "    <tr>\n",
       "      <th>0</th>\n",
       "      <td>1056</td>\n",
       "      <td>2</td>\n",
       "    </tr>\n",
       "    <tr>\n",
       "      <th>1</th>\n",
       "      <td>2600</td>\n",
       "      <td>4</td>\n",
       "    </tr>\n",
       "    <tr>\n",
       "      <th>2</th>\n",
       "      <td>1440</td>\n",
       "      <td>3</td>\n",
       "    </tr>\n",
       "    <tr>\n",
       "      <th>3</th>\n",
       "      <td>1521</td>\n",
       "      <td>3</td>\n",
       "    </tr>\n",
       "    <tr>\n",
       "      <th>4</th>\n",
       "      <td>1200</td>\n",
       "      <td>2</td>\n",
       "    </tr>\n",
       "    <tr>\n",
       "      <th>5</th>\n",
       "      <td>1170</td>\n",
       "      <td>2</td>\n",
       "    </tr>\n",
       "    <tr>\n",
       "      <th>6</th>\n",
       "      <td>2732</td>\n",
       "      <td>4</td>\n",
       "    </tr>\n",
       "    <tr>\n",
       "      <th>7</th>\n",
       "      <td>3300</td>\n",
       "      <td>4</td>\n",
       "    </tr>\n",
       "    <tr>\n",
       "      <th>8</th>\n",
       "      <td>1310</td>\n",
       "      <td>3</td>\n",
       "    </tr>\n",
       "    <tr>\n",
       "      <th>9</th>\n",
       "      <td>3700</td>\n",
       "      <td>5</td>\n",
       "    </tr>\n",
       "    <tr>\n",
       "      <th>10</th>\n",
       "      <td>1800</td>\n",
       "      <td>3</td>\n",
       "    </tr>\n",
       "    <tr>\n",
       "      <th>11</th>\n",
       "      <td>2785</td>\n",
       "      <td>4</td>\n",
       "    </tr>\n",
       "    <tr>\n",
       "      <th>12</th>\n",
       "      <td>1000</td>\n",
       "      <td>2</td>\n",
       "    </tr>\n",
       "    <tr>\n",
       "      <th>13</th>\n",
       "      <td>1100</td>\n",
       "      <td>2</td>\n",
       "    </tr>\n",
       "    <tr>\n",
       "      <th>14</th>\n",
       "      <td>2250</td>\n",
       "      <td>3</td>\n",
       "    </tr>\n",
       "    <tr>\n",
       "      <th>15</th>\n",
       "      <td>1175</td>\n",
       "      <td>2</td>\n",
       "    </tr>\n",
       "    <tr>\n",
       "      <th>16</th>\n",
       "      <td>1180</td>\n",
       "      <td>3</td>\n",
       "    </tr>\n",
       "    <tr>\n",
       "      <th>17</th>\n",
       "      <td>1540</td>\n",
       "      <td>3</td>\n",
       "    </tr>\n",
       "    <tr>\n",
       "      <th>18</th>\n",
       "      <td>2770</td>\n",
       "      <td>3</td>\n",
       "    </tr>\n",
       "    <tr>\n",
       "      <th>19</th>\n",
       "      <td>800</td>\n",
       "      <td>1</td>\n",
       "    </tr>\n",
       "  </tbody>\n",
       "</table>\n",
       "</div>"
      ],
      "text/plain": [
       "    area  bedrooms\n",
       "0   1056         2\n",
       "1   2600         4\n",
       "2   1440         3\n",
       "3   1521         3\n",
       "4   1200         2\n",
       "5   1170         2\n",
       "6   2732         4\n",
       "7   3300         4\n",
       "8   1310         3\n",
       "9   3700         5\n",
       "10  1800         3\n",
       "11  2785         4\n",
       "12  1000         2\n",
       "13  1100         2\n",
       "14  2250         3\n",
       "15  1175         2\n",
       "16  1180         3\n",
       "17  1540         3\n",
       "18  2770         3\n",
       "19   800         1"
      ]
     },
     "execution_count": 4,
     "metadata": {},
     "output_type": "execute_result"
    }
   ],
   "source": [
    "X"
   ]
  },
  {
   "cell_type": "markdown",
   "id": "c575bdc2",
   "metadata": {},
   "source": [
    "Assuming x0 is 1 (for bias term), Summation starts from 0 to n instead of 1 to n.\n",
    "\n",
    "Add a column of ones to X to account for the intercept term"
   ]
  },
  {
   "cell_type": "code",
   "execution_count": 5,
   "id": "8b43ab1c",
   "metadata": {},
   "outputs": [],
   "source": [
    "X = np.concatenate([np.ones((X.shape[0],1)), X], axis=1)\n"
   ]
  },
  {
   "cell_type": "code",
   "execution_count": 10,
   "id": "756e2ada",
   "metadata": {},
   "outputs": [
    {
     "data": {
      "text/plain": [
       "array([[1.000e+00, 1.056e+03, 2.000e+00],\n",
       "       [1.000e+00, 2.600e+03, 4.000e+00],\n",
       "       [1.000e+00, 1.440e+03, 3.000e+00],\n",
       "       [1.000e+00, 1.521e+03, 3.000e+00],\n",
       "       [1.000e+00, 1.200e+03, 2.000e+00],\n",
       "       [1.000e+00, 1.170e+03, 2.000e+00],\n",
       "       [1.000e+00, 2.732e+03, 4.000e+00],\n",
       "       [1.000e+00, 3.300e+03, 4.000e+00],\n",
       "       [1.000e+00, 1.310e+03, 3.000e+00],\n",
       "       [1.000e+00, 3.700e+03, 5.000e+00],\n",
       "       [1.000e+00, 1.800e+03, 3.000e+00],\n",
       "       [1.000e+00, 2.785e+03, 4.000e+00],\n",
       "       [1.000e+00, 1.000e+03, 2.000e+00],\n",
       "       [1.000e+00, 1.100e+03, 2.000e+00],\n",
       "       [1.000e+00, 2.250e+03, 3.000e+00],\n",
       "       [1.000e+00, 1.175e+03, 2.000e+00],\n",
       "       [1.000e+00, 1.180e+03, 3.000e+00],\n",
       "       [1.000e+00, 1.540e+03, 3.000e+00],\n",
       "       [1.000e+00, 2.770e+03, 3.000e+00],\n",
       "       [1.000e+00, 8.000e+02, 1.000e+00]])"
      ]
     },
     "execution_count": 10,
     "metadata": {},
     "output_type": "execute_result"
    }
   ],
   "source": [
    "X"
   ]
  },
  {
   "cell_type": "code",
   "execution_count": 115,
   "id": "573b8a20",
   "metadata": {},
   "outputs": [],
   "source": [
    "from sklearn.preprocessing import MinMaxScaler\n",
    "X_scaler = MinMaxScaler()\n",
    "y_scaler = MinMaxScaler()"
   ]
  },
  {
   "cell_type": "code",
   "execution_count": 116,
   "id": "1e7e0c99",
   "metadata": {},
   "outputs": [
    {
     "data": {
      "text/plain": [
       "array([ 39.07, 120.  ,  62.  ,  75.  ,  51.  ,  38.  , 135.  , 155.  ,\n",
       "        50.  , 167.  ,  82.  , 140.  ,  38.  ,  40.  , 101.  ,  42.  ,\n",
       "        48.  ,  60.  , 102.  ,  32.  ])"
      ]
     },
     "execution_count": 116,
     "metadata": {},
     "output_type": "execute_result"
    }
   ],
   "source": [
    "# .values: converts the selected column into a numpy array\n",
    "# .reshape(-1,1): reshapes the array to have one column and as many rows as needed\n",
    "df.price.values"
   ]
  },
  {
   "cell_type": "code",
   "execution_count": 13,
   "id": "b879ab23",
   "metadata": {},
   "outputs": [
    {
     "data": {
      "text/plain": [
       "array([[ 39.07],\n",
       "       [120.  ],\n",
       "       [ 62.  ],\n",
       "       [ 75.  ],\n",
       "       [ 51.  ],\n",
       "       [ 38.  ],\n",
       "       [135.  ],\n",
       "       [155.  ],\n",
       "       [ 50.  ],\n",
       "       [167.  ],\n",
       "       [ 82.  ],\n",
       "       [140.  ],\n",
       "       [ 38.  ],\n",
       "       [ 40.  ],\n",
       "       [101.  ],\n",
       "       [ 42.  ],\n",
       "       [ 48.  ],\n",
       "       [ 60.  ],\n",
       "       [102.  ],\n",
       "       [ 32.  ]])"
      ]
     },
     "execution_count": 13,
     "metadata": {},
     "output_type": "execute_result"
    }
   ],
   "source": [
    "df.price.values.reshape(df.shape[0],1)"
   ]
  },
  {
   "cell_type": "code",
   "execution_count": 117,
   "id": "0efa49b1",
   "metadata": {},
   "outputs": [],
   "source": [
    "X_scaled = X_scaler.fit_transform(X)\n",
    "y_scaled = y_scaler.fit_transform(df['price'].values.reshape(df.shape[0],1))  # 1D array -> 2D"
   ]
  },
  {
   "cell_type": "code",
   "execution_count": 118,
   "id": "bab0d28c",
   "metadata": {},
   "outputs": [
    {
     "data": {
      "text/plain": [
       "array([[0.        , 0.08827586, 0.25      ],\n",
       "       [0.        , 0.62068966, 0.75      ],\n",
       "       [0.        , 0.22068966, 0.5       ],\n",
       "       [0.        , 0.24862069, 0.5       ],\n",
       "       [0.        , 0.13793103, 0.25      ],\n",
       "       [0.        , 0.12758621, 0.25      ],\n",
       "       [0.        , 0.6662069 , 0.75      ],\n",
       "       [0.        , 0.86206897, 0.75      ],\n",
       "       [0.        , 0.17586207, 0.5       ],\n",
       "       [0.        , 1.        , 1.        ],\n",
       "       [0.        , 0.34482759, 0.5       ],\n",
       "       [0.        , 0.68448276, 0.75      ],\n",
       "       [0.        , 0.06896552, 0.25      ],\n",
       "       [0.        , 0.10344828, 0.25      ],\n",
       "       [0.        , 0.5       , 0.5       ],\n",
       "       [0.        , 0.12931034, 0.25      ],\n",
       "       [0.        , 0.13103448, 0.5       ],\n",
       "       [0.        , 0.25517241, 0.5       ],\n",
       "       [0.        , 0.67931034, 0.5       ],\n",
       "       [0.        , 0.        , 0.        ]])"
      ]
     },
     "execution_count": 118,
     "metadata": {},
     "output_type": "execute_result"
    }
   ],
   "source": [
    "X_scaled"
   ]
  },
  {
   "cell_type": "markdown",
   "id": "896b7331",
   "metadata": {},
   "source": [
    "### Batch Gradient Descent\n",
    "\n",
    "We need to find the weights and the bias -> And this is the Linear Regression algo as well.\n",
    "\n",
    "y = w1 * Area + w2 * Bedrooms + Bias"
   ]
  },
  {
   "cell_type": "code",
   "execution_count": 172,
   "id": "4fef32ac",
   "metadata": {},
   "outputs": [],
   "source": [
    "# Learning rate controls the pace of learning\n",
    "def batch_gradient_descent(X, y_true, epochs, learning_rate = 0.01):\n",
    "    m = X.shape[0]  # nos of datapoints\n",
    "    n = X.shape[1]  # nos of features\n",
    "    # initialize weights and cost function\n",
    "    Theta = np.ones((n,1))        # nx1\n",
    "    J_Theta = (1/2*m) * np.transpose(X @ Theta - y_true) @ (X @ Theta - y_true)\n",
    "    \n",
    "    cost = []\n",
    "    epo = []\n",
    "    for i in range(epochs):\n",
    "        gradient = (1/m) * X.T @ (X @ Theta - y_true)  # nx1 vector for bias, w1 and w2\n",
    "        Theta = Theta - learning_rate*gradient\n",
    "        J_Theta = (1/2*m) * np.transpose(X @ Theta - y_true) @ (X @ Theta - y_true)\n",
    "        \n",
    "        if i%10 == 0:\n",
    "            cost.append(J_Theta[0][0])\n",
    "            epo.append(i)\n",
    "            \n",
    "    return Theta, J_Theta, cost, epo"
   ]
  },
  {
   "cell_type": "code",
   "execution_count": 173,
   "id": "4eb32ebc",
   "metadata": {},
   "outputs": [],
   "source": [
    "Weights, Cost, Cost_List, Epoch_List = batch_gradient_descent(X_scaled, y_scaled, 1000, 0.01)"
   ]
  },
  {
   "cell_type": "code",
   "execution_count": 174,
   "id": "1bfdc0dd",
   "metadata": {},
   "outputs": [
    {
     "data": {
      "text/plain": [
       "array([[1.        ],\n",
       "       [0.58395444],\n",
       "       [0.37907193]])"
      ]
     },
     "execution_count": 174,
     "metadata": {},
     "output_type": "execute_result"
    }
   ],
   "source": [
    "# These weights are the LR Model itself\n",
    "Weights"
   ]
  },
  {
   "cell_type": "code",
   "execution_count": 121,
   "id": "67011f84",
   "metadata": {},
   "outputs": [
    {
     "data": {
      "text/plain": [
       "array([[1.69980836]])"
      ]
     },
     "execution_count": 121,
     "metadata": {},
     "output_type": "execute_result"
    }
   ],
   "source": [
    "Cost"
   ]
  },
  {
   "cell_type": "code",
   "execution_count": 122,
   "id": "983a61bd",
   "metadata": {},
   "outputs": [
    {
     "data": {
      "text/plain": [
       "[<matplotlib.lines.Line2D at 0x1a7086b9ed0>]"
      ]
     },
     "execution_count": 122,
     "metadata": {},
     "output_type": "execute_result"
    },
    {
     "data": {
      "image/png": "[encoded data removed]",
      "text/plain": [
       "<Figure size 640x480 with 1 Axes>"
      ]
     },
     "metadata": {},
     "output_type": "display_data"
    }
   ],
   "source": [
    "plt.xlabel(\"Epoch\")\n",
    "plt.ylabel(\"Cost\")\n",
    "plt.plot(Epoch_List, Cost_List)"
   ]
  },
  {
   "cell_type": "code",
   "execution_count": 134,
   "id": "4116464e",
   "metadata": {},
   "outputs": [],
   "source": [
    "def predict_house_price(area, bedrooms, Weights):\n",
    "    X_scaled = X_scaler.transform([[1,area,bedrooms]])\n",
    "    y_scaled = Weights[1] * X_scaled[0][1] + Weights[2] * X_scaled[0][2] + Weights[0]\n",
    "    \n",
    "    return y_scaler.inverse_transform([y_scaled])"
   ]
  },
  {
   "cell_type": "code",
   "execution_count": 140,
   "id": "5937affb",
   "metadata": {},
   "outputs": [
    {
     "data": {
      "text/plain": [
       "array([[198.822538]])"
      ]
     },
     "execution_count": 140,
     "metadata": {},
     "output_type": "execute_result"
    }
   ],
   "source": [
    "predict_house_price(1500, 2, Weights)"
   ]
  },
  {
   "cell_type": "markdown",
   "id": "e1011b69",
   "metadata": {},
   "source": [
    "### Stochastic Gradient Descent\n",
    "\n",
    "Instead of using all the samples, we will use randomly picked samples."
   ]
  },
  {
   "cell_type": "code",
   "execution_count": 141,
   "id": "90541c6b",
   "metadata": {},
   "outputs": [],
   "source": [
    "import random"
   ]
  },
  {
   "cell_type": "code",
   "execution_count": 190,
   "id": "bcd9bb6a",
   "metadata": {},
   "outputs": [],
   "source": [
    "def stochastic_gradient_descent(X, y_true, epochs, learning_rate):\n",
    "    m = X.shape[0]\n",
    "    n = X.shape[1]\n",
    "    \n",
    "    Theta = np.ones(shape = (n,1))\n",
    "    J_Theta = 1\n",
    "    \n",
    "    cost_list = []\n",
    "    epoch_list = []\n",
    "    \n",
    "    for i in range(epochs):\n",
    "        random_index = random.randint(0, m-1)\n",
    "        sample_x = X[random_index]\n",
    "        sample_y = y_true[random_index]\n",
    "        \n",
    "        gradient = (1/m) * sample_x.T.reshape(-1,1) @ (sample_x @ Theta - sample_y) \n",
    "        Theta = Theta - learning_rate*gradient.reshape(-1,1)\n",
    "        J_Theta = (1/2*m) * np.transpose(sample_x @ Theta - sample_y) @ (sample_x @ Theta - sample_y)\n",
    "        \n",
    "        if i%200 == 0:\n",
    "            cost_list.append(J_Theta)\n",
    "            epoch_list.append(i)\n",
    "        \n",
    "    return Theta, J_Theta, cost_list, epoch_list\n",
    "    "
   ]
  },
  {
   "cell_type": "code",
   "execution_count": 191,
   "id": "6aa4c149",
   "metadata": {},
   "outputs": [],
   "source": [
    "Theta, J_Theta, cost_list, epoch_list = stochastic_gradient_descent(X_scaled, y_scaled, 20000, 0.01)"
   ]
  },
  {
   "cell_type": "code",
   "execution_count": 184,
   "id": "ebd2b3c5",
   "metadata": {},
   "outputs": [
    {
     "data": {
      "text/plain": [
       "array([[1.        ],\n",
       "       [0.58062277],\n",
       "       [0.38395199]])"
      ]
     },
     "execution_count": 184,
     "metadata": {},
     "output_type": "execute_result"
    }
   ],
   "source": [
    "Theta"
   ]
  },
  {
   "cell_type": "code",
   "execution_count": 185,
   "id": "3b712902",
   "metadata": {},
   "outputs": [
    {
     "data": {
      "text/plain": [
       "0.09407924066856363"
      ]
     },
     "execution_count": 185,
     "metadata": {},
     "output_type": "execute_result"
    }
   ],
   "source": [
    "J_Theta"
   ]
  },
  {
   "cell_type": "code",
   "execution_count": 192,
   "id": "9a22078b",
   "metadata": {},
   "outputs": [
    {
     "data": {
      "text/plain": [
       "[<matplotlib.lines.Line2D at 0x1a708dbfad0>]"
      ]
     },
     "execution_count": 192,
     "metadata": {},
     "output_type": "execute_result"
    },
    {
     "data": {
      "image/png": "[encoded data removed]",
      "text/plain": [
       "<Figure size 640x480 with 1 Axes>"
      ]
     },
     "metadata": {},
     "output_type": "display_data"
    }
   ],
   "source": [
    "plt.plot(epoch_list,cost_list)"
   ]
  },
  {
   "cell_type": "code",
   "execution_count": 182,
   "id": "63c92179",
   "metadata": {},
   "outputs": [
    {
     "data": {
      "text/plain": [
       "array([[263.01357417]])"
      ]
     },
     "execution_count": 182,
     "metadata": {},
     "output_type": "execute_result"
    }
   ],
   "source": [
    "predict_house_price(2600, 4, Theta)"
   ]
  },
  {
   "cell_type": "code",
   "execution_count": null,
   "id": "c6b93273",
   "metadata": {},
   "outputs": [],
   "source": []
  }
 ],
 "metadata": {
  "kernelspec": {
   "display_name": "Python 3 (ipykernel)",
   "language": "python",
   "name": "python3"
  },
  "language_info": {
   "codemirror_mode": {
    "name": "ipython",
    "version": 3
   },
   "file_extension": ".py",
   "mimetype": "text/x-python",
   "name": "python",
   "nbconvert_exporter": "python",
   "pygments_lexer": "ipython3",
   "version": "3.11.3"
  }
 },
 "nbformat": 4,
 "nbformat_minor": 5
}
